{
  "nbformat": 4,
  "nbformat_minor": 0,
  "metadata": {
    "colab": {
      "private_outputs": true,
      "provenance": [],
      "authorship_tag": "ABX9TyN/JVXmCgThXt8j0hHjhL9A",
      "include_colab_link": true
    },
    "kernelspec": {
      "name": "python3",
      "display_name": "Python 3"
    },
    "language_info": {
      "name": "python"
    }
  },
  "cells": [
    {
      "cell_type": "markdown",
      "metadata": {
        "id": "view-in-github",
        "colab_type": "text"
      },
      "source": [
        "<a href=\"https://colab.research.google.com/github/DuongThiKimChi/Multivariate-LSTM/blob/main/1_FOX_Multivariate_LSTM.ipynb\" target=\"_parent\"><img src=\"https://colab.research.google.com/assets/colab-badge.svg\" alt=\"Open In Colab\"/></a>"
      ]
    },
    {
      "cell_type": "code",
      "source": [
        "import datetime\n",
        "import sklearn\n",
        "from sklearn.impute import SimpleImputer\n",
        "from sklearn.preprocessing import MinMaxScaler\n",
        "from sklearn.decomposition import KernelPCA\n",
        "import numpy as np\n",
        "import pandas as pd\n",
        "import math\n",
        "import keras\n",
        "import matplotlib.pyplot as plt\n",
        "import tensorflow as tf\n",
        "import yfinance as yf\n",
        "import math\n",
        "import keras\n",
        "import matplotlib.pyplot as plt\n",
        "import tensorflow as tf\n",
        "from keras.models import Sequential\n",
        "from keras.layers import LSTM, Dense, Dropout\n",
        "tf.random.set_seed(99)"
      ],
      "metadata": {
        "id": "b-JRJ5Xdq04W"
      },
      "execution_count": null,
      "outputs": []
    },
    {
      "cell_type": "code",
      "source": [
        "df = yf.download(tickers='EURUSD=X',\n",
        "                 period='3000d',\n",
        "                 interval='1d')\n",
        "#df = df.drop(['Volume', 'Adj Close'], axis=1)\n",
        "#df = df.drop(['Volume'], axis=1)\n",
        "df.head()"
      ],
      "metadata": {
        "id": "m5pGEwBcCw1p"
      },
      "execution_count": null,
      "outputs": []
    },
    {
      "cell_type": "code",
      "source": [
        "#Data acquisition from real-time financial sources\n",
        "dataFrame=df.copy()\n",
        "imputer = SimpleImputer(missing_values=np.nan)\n",
        "dataFrame = pd.DataFrame(imputer.fit_transform(dataFrame), columns=dataFrame.columns)\n",
        "dataFrame = dataFrame.reset_index(drop=True)\n",
        "scaler = MinMaxScaler(feature_range=(0, 1))\n",
        "df_scaled = scaler.fit_transform(dataFrame.to_numpy())\n",
        "df_scaled = pd.DataFrame(df_scaled, columns=list(dataFrame.columns))\n",
        "target_scaler = MinMaxScaler(feature_range=(0, 1))\n",
        "df_scaled[['Open', 'Close']] = target_scaler.fit_transform(dataFrame[['Open', 'Close']].to_numpy())\n",
        "df_scaled = df_scaled.astype(float)"
      ],
      "metadata": {
        "id": "bWhlW2mJP4Ps"
      },
      "execution_count": null,
      "outputs": []
    },
    {
      "cell_type": "code",
      "source": [
        "# Define the LSTM model\n",
        "def create_multivariate_lstm(window, num_features):\n",
        "    model = Sequential()\n",
        "    model.add(LSTM(units=50, return_sequences=True, input_shape=(window, num_features)))\n",
        "    model.add(Dropout(0.2))\n",
        "    model.add(LSTM(units=50, return_sequences=False))\n",
        "    model.add(Dropout(0.2))\n",
        "    model.add(Dense(units=2)) #Output layer matches the shape of y_train (Open and Close prices)\n",
        "    model.compile(optimizer='adam', loss='mse')\n",
        "    return model\n",
        "# Single step dataset preparation\n",
        "def singleStepSampler(df, window):\n",
        "    xRes = []\n",
        "    yRes = []\n",
        "    for i in range(0, len(df) - window):\n",
        "        res = []\n",
        "        for j in range(0, window):\n",
        "            r = []\n",
        "            for col in df.columns:\n",
        "                r.append(df[col][i + j])\n",
        "            res.append(r)\n",
        "        xRes.append(res)\n",
        "        yRes.append(df[['Open', 'Close']].iloc[i + window].values)\n",
        "    return np.array(xRes), np.array(yRes)\n",
        "\n",
        "# Dataset splitting\n",
        "SPLIT = 0.5\n",
        "(xVal, yVal) = singleStepSampler(df_scaled, 24)\n",
        "X_train = xVal[:int(SPLIT * len(xVal))]\n",
        "y_train = yVal[:int(SPLIT * len(yVal))]\n",
        "X_test = xVal[int(SPLIT * len(xVal)):]\n",
        "y_test = yVal[int(SPLIT * len(yVal)):]\n",
        "\n",
        "# Create the model\n",
        "num_features = X_train.shape[2]\n",
        "window = X_train.shape[1]\n",
        "multivariate_lstm = create_multivariate_lstm(window, num_features)\n",
        "history = multivariate_lstm.fit(X_train, y_train, epochs=20)"
      ],
      "metadata": {
        "id": "gQYB6kVMWLjF"
      },
      "execution_count": null,
      "outputs": []
    },
    {
      "cell_type": "code",
      "source": [
        "# Forecast Plot with Dates on X-axis\n",
        "predicted_values = multivariate_lstm.predict(X_test)\n",
        "\n",
        "d = {\n",
        "    'Predicted_Open': predicted_values[:, 0],\n",
        "    'Predicted_Close': predicted_values[:, 1],\n",
        "    'Actual_Open': y_test[:, 0],\n",
        "    'Actual_Close': y_test[:, 1],\n",
        "}\n",
        "\n",
        "d = pd.DataFrame(d)\n",
        "d.index = df.index[-len(y_test):]  # Assigning the correct date index\n",
        "\n",
        "fig, ax = plt.subplots(figsize=(14, 6))\n",
        "#  highlight the  forecast\n",
        "highlight_start = int(len(d) * 0.9)\n",
        "highlight_end = len(d) - 1  # Adjusted to stay within bounds\n",
        "# Plot the actual values\n",
        "plt.plot(d[['Actual_Open', 'Actual_Close']][:highlight_start], label=['Actual_Open', 'Actual_Close'])\n",
        "\n",
        "# Plot predicted values with a dashed line\n",
        "plt.plot(d[['Predicted_Open', 'Predicted_Close']], label=['Predicted_Open', 'Predicted_Close'], linestyle='--')\n",
        "\n",
        "# Highlight the forecasted portion with a different color\n",
        "plt.axvspan(d.index[highlight_start], d.index[highlight_end], facecolor='yellow', alpha=0.9, label='Forecast')\n",
        "\n",
        "plt.title('FOX forecasting using multivariate LSTM')\n",
        "plt.xlabel('Dates')\n",
        "plt.ylabel('Values')\n",
        "ax.legend()\n",
        "plt.show()"
      ],
      "metadata": {
        "id": "fX7TnJD8VaVE"
      },
      "execution_count": null,
      "outputs": []
    },
    {
      "cell_type": "code",
      "source": [
        "#Param in multivariate_lstm\n",
        "multivariate_lstm.summary()"
      ],
      "metadata": {
        "id": "li3ox6FmAWax"
      },
      "execution_count": null,
      "outputs": []
    },
    {
      "cell_type": "code",
      "source": [
        "# Model Evaluation\n",
        "def eval(model):\n",
        "    return {\n",
        "        'MSE': sklearn.metrics.mean_squared_error(d[f'Actual_{model.split(\"_\")[1]}'].to_numpy(), d[model].to_numpy()),\n",
        "        'MAE': sklearn.metrics.mean_absolute_error(d[f'Actual_{model.split(\"_\")[1]}'].to_numpy(), d[model].to_numpy()),\n",
        "        'MAPE':sklearn.metrics.mean_absolute_percentage_error(d[f'Actual_{model.split(\"_\")[1]}'].to_numpy(), d[model].to_numpy()),\n",
        "        'RMSE':sklearn.metrics.mean_squared_error(d[f'Actual_{model.split(\"_\")[1]}'].to_numpy(), d[model].to_numpy()),\n",
        "        'R2': sklearn.metrics.r2_score(d[f'Actual_{model.split(\"_\")[1]}'].to_numpy(), d[model].to_numpy()) }\n",
        "\n",
        "result = dict()\n",
        "\n",
        "for item in ['Predicted_Open', 'Predicted_Close']:\n",
        "    result[item] = eval(item)\n",
        "\n",
        "result\n",
        "\n",
        "result = dict()\n",
        "\n",
        "for item in ['Predicted_Open', 'Predicted_Close']:\n",
        "    result[item] = eval(item)\n",
        "\n",
        "result"
      ],
      "metadata": {
        "id": "FNqzXZ2VXTXe"
      },
      "execution_count": null,
      "outputs": []
    }
  ]
}